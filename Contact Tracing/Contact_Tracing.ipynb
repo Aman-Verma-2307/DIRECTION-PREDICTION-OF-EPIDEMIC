{
 "cells": [
  {
   "cell_type": "markdown",
   "metadata": {},
   "source": [
    "# Contact Tracing"
   ]
  },
  {
   "cell_type": "code",
   "execution_count": 27,
   "metadata": {},
   "outputs": [],
   "source": [
    "### Importing Libraries\n",
    "\n",
    "import numpy as np\n",
    "import pandas as pd\n",
    "import matplotlib.pyplot as plt\n",
    "import math"
   ]
  },
  {
   "cell_type": "code",
   "execution_count": 28,
   "metadata": {},
   "outputs": [],
   "source": [
    "### Defining Variables\n",
    "\n",
    "n = 18 # Number of arcs\n",
    "l = 360/n # Arc Degree\n",
    "N = 15 # Total Number of People\n",
    "max_movement = 2 # Maximum Number of location shifts in all users \n",
    "max_meet = 4 # Maximum Number of meets among all users\n",
    "\n",
    "Movement = [[[0,0,0,0] for a in range(max_movement)] for b in range(N)] # 3-D Matrix of dimension (max_movement*4*N) with hth 2-D plane showing data about users all location changes ie (lattitude, longitude, timestamp, arc_index) and that to for max_movement. If the hth user doesn't change location then all the remaining rows will be similar to last row but with just changed time stamp.   \n",
    "Meeting = [[[[0,0] for b in range(max_meet)] for d in range (N)] for e in range(N)] # 3-D Matrix of dimensions (max_meets*2*N*N). This matrix contains the data about meeting of person and for a certain no. of times and also in which arc along with time duration and this is for all N peoples.\n",
    "Person = [0 for g in range(N)] # 1-D vector representing person_index of a person\n",
    "Update_Matrix = [[[[0,0] for b in range(max_meet)] for d in range (N)] for e in range(N)] # 3-D Matix of dimensions (max_meets*2*N*N) for updating entries and removal of redundancy"
   ]
  },
  {
   "cell_type": "code",
   "execution_count": 29,
   "metadata": {},
   "outputs": [],
   "source": [
    "### Distance Calculator\n",
    "\n",
    "def distance(origin, destination):\n",
    "   \n",
    "    lat1, lon1 = origin\n",
    "    lat2, lon2 = destination\n",
    "    radius = 6371 # km\n",
    "\n",
    "    dlat = math.radians(lat2-lat1)\n",
    "    dlon = math.radians(lon2-lon1)\n",
    "    a = math.sin(dlat/2) * math.sin(dlat/2) + math.cos(math.radians(lat1)) \\\n",
    "        * math.cos(math.radians(lat2)) * math.sin(dlon/2) * math.sin(dlon/2)\n",
    "    c = 2 * math.atan2(math.sqrt(a), math.sqrt(1-a))\n",
    "    d = radius * c\n",
    "\n",
    "    return d"
   ]
  },
  {
   "cell_type": "code",
   "execution_count": 33,
   "metadata": {},
   "outputs": [],
   "source": [
    "### Defining Function Trace_Contact\n",
    "\n",
    "# One must initialize Update_Matrix with all zeros before initializing this function\n",
    "\n",
    "def Trace_Contact(Movement,Person,max_movement,max_meet,eta,dist_threshold,time_correspondence):\n",
    "    \n",
    "    \"\"\" \n",
    "     Function to trace the contacts.\n",
    "     \n",
    "     Inputs:-\n",
    "     \n",
    "     Movement - 3-D Matrix of dimension N*max_movement*4 containing data about lattiutde, longitude, timestamp, arc_index\n",
    "     Person -  1-D vector representing person_index of a person\n",
    "     max_movement - Maximum Number of location shifts in all users\n",
    "     max_meet -  Maximum Number of meets among all users\n",
    "     eta - Threshold for a genuine meeting\n",
    "     dist_threshold - Threshold for distance measurment\n",
    "     time_correspondence - Time of Meetinng if meeting is just for single instance  \n",
    "     \n",
    "     Outputs:-\n",
    "     \n",
    "     Meeting - 4-D Matrix of dimesnion N*N*max_meet*2 which containing the data about meeting intervels, meeting arc etc.\n",
    "     Update_Matrix - 4-D Matrix of dimension N*N*max_meet*2 which contains data for updtaing entries\n",
    "     \n",
    "    \"\"\"\n",
    "    \n",
    "    # Converting Lists in Matrices\n",
    "    Movement = np.array(Movement)\n",
    "    Person = np.array(Person)\n",
    "    Meetings = np.array(Meeting)\n",
    "    \n",
    "    # Implementing the Function\n",
    "    for entity_1 in range(N):\n",
    "        for movement_1 in range(max_movement):\n",
    "            for entity_2 in range(N):\n",
    "                if(Movement[entity_1,0,0] != Movement[entity_2,0,0]):\n",
    "                    for movement_2 in range(max_movement):\n",
    "                        if(distance(Movement[entity_1,movement_1,0:1],Movement[entity_2,movement_2,0:1]) < dist_threshold):\n",
    "                            movement_decided = movement_2\n",
    "                            time_beginning_en1 = Movement[entity_1,movement_1,2]\n",
    "                            time_beginning_en2 = Movement[entity_2,meet_decided,2]\n",
    "                            if((time_beginnig_en1-time_beginning_en2)**2 < eta**2):\n",
    "                                while((distance(Movement[entity_1,movement_1,0:1],Movement[entity_2,movement_decided,0:1]) and (time_beginnig_en1-time_beginning_en2)**2 < eta**2) or movement_decided == max_movement):\n",
    "                                    time_beginning_en2 = Movement[entity_2,movement_decided,2]\n",
    "                                    movement_decided = movement_decided + 1\n",
    "                                if(time_beginnig_en1 > time_beginning_en2):\n",
    "                                      time_of_meeting = time_beginnig_en1 - time_beginning_en2\n",
    "                                elif(time_beginning_en2 > time_beginning_en1):\n",
    "                                      time_of_meeting = time_beginning_en2 - time_beginning_en1\n",
    "                                else:\n",
    "                                      time_of_meeting = time_correspondence\n",
    "                                Meetings[entity_1,entity_2,movement_1,0] = time_of_meeting\n",
    "                                Meetings[entity_1,entity_2,movement_1,1] = Movement[entity_2,meeting_decided,Person[entity_2]]\n",
    "    return Meetings"
   ]
  }
 ],
 "metadata": {
  "kernelspec": {
   "display_name": "Python 3",
   "language": "python",
   "name": "python3"
  },
  "language_info": {
   "codemirror_mode": {
    "name": "ipython",
    "version": 3
   },
   "file_extension": ".py",
   "mimetype": "text/x-python",
   "name": "python",
   "nbconvert_exporter": "python",
   "pygments_lexer": "ipython3",
   "version": "3.7.6"
  }
 },
 "nbformat": 4,
 "nbformat_minor": 2
}
