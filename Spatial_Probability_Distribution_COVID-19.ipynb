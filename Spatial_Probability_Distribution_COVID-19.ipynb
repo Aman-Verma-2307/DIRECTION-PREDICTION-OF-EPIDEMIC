{
 "cells": [
  {
   "cell_type": "markdown",
   "metadata": {},
   "source": [
    "# Probable Spatial Direction Determination of Epidemic Spread"
   ]
  },
  {
   "cell_type": "code",
   "execution_count": 1,
   "metadata": {},
   "outputs": [],
   "source": [
    "### Importing Libraries\n",
    "\n",
    "import numpy as np\n",
    "import pandas as pd\n",
    "import matplotlib.pyplot as plt"
   ]
  },
  {
   "cell_type": "code",
   "execution_count": 36,
   "metadata": {},
   "outputs": [],
   "source": [
    "### Defining Variables and Constants\n",
    "\n",
    "n = 18 # No. of Divisions of a region\n",
    "l = 360/n # Arc Angle\n",
    "W = np.zeros((n,1)) # Weighting Matrix\n",
    "person_index = np.array([0,1,2]) # Matrix of Class of Person; With 0-Not Affected,1-Foreign_Travel/Symptoms and 2-COVID-19_positive\n",
    "\n",
    "N = 2 # No of people\n",
    "Tau = 2 # Threshold of Meetings\n",
    "\n",
    "Person = [0 for d in range(N)] # 1-D vector representing person_index of a person \n",
    "Meeting = [[[0 for a in range(N)],[0 for b in range(N)]] for c in range(n)] # 3-D Matrix of dimesion N*N*n; with it's (i,j,l)th entry showing time for which person i and person j met in nth arc  \n",
    "Carry_Matrix = [[[0 for a in range(N)],[0 for b in range(N)]] for c in range(n)] # 3-D Matrix of dimension N*N*n with (i,j,l)th entry being considered 1 to meet of ith person with jth person is considered\n",
    "\n",
    "probability = np.array([[0,0],[0.7,0.65],[0.9,0.85]]) # Probabilities "
   ]
  },
  {
   "cell_type": "code",
   "execution_count": 44,
   "metadata": {},
   "outputs": [],
   "source": [
    "### Defining Spatial_Probable Function\n",
    "\n",
    "# While Initializing this function Carry_Matrix must be set to zero matrix of dimensions being N*N*n ie. No. of total people*No. of total people*No. of total arcs\n",
    "\n",
    "def Spatial_Probable(Person,Meeting,Carry_Matrix,n,N,probability,Tau):\n",
    "    \n",
    "       # \"Function to Output W - Weighting Matrix with taking following inputs:-\n",
    "       # \"Person - 1-D vector representing person_index of a person\"\n",
    "       # \"Meeting - 3-D Matrix of dimesion N*N*n containing data about meetings; If (i,j)th entry of Meeting matrix is 1 for nth channel then ith person met with jth person in the nth arc\" \n",
    "       # \"Carry_Matrix - 3-D Matrix of dimesion N*N*n with (i,j,n) entry being considered 1 to meet of ith person with jth person is considered\"\n",
    "       # \"n - Number of arcs\"\n",
    "       # \"N - Total Number of people\"\n",
    "       # \"probability - Matrix containing various probabilities of spread\"\n",
    "       # \"Tau - Threshold of Meeting\"\n",
    "    \n",
    "    ## Converting Lists into arrays\n",
    "    Person = np.array(Person)\n",
    "    Meeting = np.reshape(np.array(Meeting),(N,N,n))\n",
    "    Carry_Matrix = np.reshape(np.array(Carry_Matrix),(N,N,n))\n",
    "    \n",
    "    ## Producing a Dummy Weighting Matrix\n",
    "    W_dummy = np.zeros((N,N,n))\n",
    "    \n",
    "    ## Implementing the function\n",
    "    \n",
    "    for channel_number in range(n):\n",
    "        for entity_1 in range(N):\n",
    "            for entity_2 in range(N):\n",
    "                if(Meeting[entity_1,entity_2,channel_number] != 0):\n",
    "                    if(Carry_Matrix[entity_1,entity_2,channel_number] == 0):\n",
    "                        if(Person[entity_1] > Person[entity_2]):\n",
    "                            entity_class = Person[entity_1]\n",
    "                            if(Meeting[entity_1,entity_2,channel_number]>Tau):\n",
    "                                prob_class = 0\n",
    "                            else:\n",
    "                                prob_class = 1\n",
    "                            W_dummy[entity_1,entity_2,channel_number] = probability[entity_class,prob_class]\n",
    "                        elif(Person[entity_2] > Person[entity_1]):\n",
    "                            entity_class = Person[entity_2]\n",
    "                            if(Meeting[entity_1,entity_2,channel_number]>Tau):\n",
    "                                prob_class = 0\n",
    "                            else:\n",
    "                                prob_class = 1\n",
    "                            W_dummy[entity_1,entity_2,channel_number] = probability[entity_class,prob_class]\n",
    "                        else:\n",
    "                            W_dummy[entity_1,entity_2,channel_number] = 0\n",
    "                    Carry_Matrix[entity_1,entity_2,channel_number] = 1\n",
    "                    Carry_Matrix[entity_2,entity_1,channel_number] = 1\n",
    "                    \n",
    "    ## Computation of W from W_dummy\n",
    "    W = np.sum(np.sum(W_dummy,axis=0),axis=0)\n",
    "    \n",
    "    ## Returning W\n",
    "    return W       "
   ]
  }
 ],
 "metadata": {
  "kernelspec": {
   "display_name": "Python 3",
   "language": "python",
   "name": "python3"
  },
  "language_info": {
   "codemirror_mode": {
    "name": "ipython",
    "version": 3
   },
   "file_extension": ".py",
   "mimetype": "text/x-python",
   "name": "python",
   "nbconvert_exporter": "python",
   "pygments_lexer": "ipython3",
   "version": "3.7.6"
  }
 },
 "nbformat": 4,
 "nbformat_minor": 2
}
